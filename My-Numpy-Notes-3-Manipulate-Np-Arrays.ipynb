{
 "cells": [
  {
   "cell_type": "markdown",
   "metadata": {},
   "source": [
    "# 3- Manipulate Numpy Arrays"
   ]
  },
  {
   "cell_type": "code",
   "execution_count": 119,
   "metadata": {},
   "outputs": [],
   "source": [
    "import numpy as np"
   ]
  },
  {
   "cell_type": "markdown",
   "metadata": {},
   "source": [
    "## 3.1 Copy Numpy Array \"=\"\n",
    "\n",
    "We can easyly copy the an numpy array with equal operator"
   ]
  },
  {
   "cell_type": "code",
   "execution_count": 120,
   "metadata": {},
   "outputs": [
    {
     "data": {
      "text/plain": [
       "array([-45, -31, -12,   0,   2,  25,  51,  99])"
      ]
     },
     "execution_count": 120,
     "metadata": {},
     "output_type": "execute_result"
    }
   ],
   "source": [
    "my_np_array_1= np.array([-45, -31, -12, 0, 2, 25, 51, 99])\n",
    "\n",
    "my_np_array_replicated =my_np_array_1\n",
    "\n",
    "my_np_array_replicated"
   ]
  },
  {
   "cell_type": "markdown",
   "metadata": {},
   "source": [
    "# 3.2 \"is\", \"==\" and Id()\n",
    "\n",
    "\"is\" operator is to test whether these two references my_np_array_replicated and my_np_array_1 refer to be the same object in the memory\n",
    "\n",
    "to test with \" ==\" if every operator is the same in the elements\n",
    "\n",
    "Anotherway to test whether these two references my_np_array_replicated and my_np_array_1 refer to be the same object in the memory "
   ]
  },
  {
   "cell_type": "code",
   "execution_count": 121,
   "metadata": {},
   "outputs": [
    {
     "data": {
      "text/plain": [
       "True"
      ]
     },
     "execution_count": 121,
     "metadata": {},
     "output_type": "execute_result"
    }
   ],
   "source": [
    "# 3.2.1 Example is operator\n",
    "my_np_array_replicated is my_np_array_1"
   ]
  },
  {
   "cell_type": "code",
   "execution_count": 122,
   "metadata": {},
   "outputs": [
    {
     "data": {
      "text/plain": [
       "array([ True,  True,  True,  True,  True,  True,  True,  True])"
      ]
     },
     "execution_count": 122,
     "metadata": {},
     "output_type": "execute_result"
    }
   ],
   "source": [
    "# 3.2.2 Example to test with \" ==\" if every operator is the same in the elements\n",
    "\n",
    "my_np_array_replicated == my_np_array_1"
   ]
  },
  {
   "cell_type": "code",
   "execution_count": 123,
   "metadata": {},
   "outputs": [
    {
     "name": "stdout",
     "output_type": "stream",
     "text": [
      "4636984864\n"
     ]
    }
   ],
   "source": [
    "#Example id operator\n",
    "\n",
    "if (id(my_np_array_1) == id(my_np_array_replicated)):\n",
    "    print (id(my_np_array_replicated))"
   ]
  },
  {
   "cell_type": "markdown",
   "metadata": {},
   "source": [
    "## 3.3. Changing a capied array's element\n",
    "\n",
    "In a replicated array if one of the elements value is changed then the element also is changed in the orginal array"
   ]
  },
  {
   "cell_type": "code",
   "execution_count": 124,
   "metadata": {},
   "outputs": [
    {
     "data": {
      "text/plain": [
       "array([-45, -31, -12,   0,   2,  25,  51,  99])"
      ]
     },
     "execution_count": 124,
     "metadata": {},
     "output_type": "execute_result"
    }
   ],
   "source": [
    "#Example 3.3.1 my_np_array_replicated[3]=999\n",
    "my_np_array_replicated"
   ]
  },
  {
   "cell_type": "code",
   "execution_count": 125,
   "metadata": {},
   "outputs": [
    {
     "data": {
      "text/plain": [
       "array([-45, -31, -12,   0,   2,  25,  51,  99])"
      ]
     },
     "execution_count": 125,
     "metadata": {},
     "output_type": "execute_result"
    }
   ],
   "source": [
    "my_np_array_1"
   ]
  },
  {
   "cell_type": "code",
   "execution_count": 126,
   "metadata": {},
   "outputs": [
    {
     "name": "stdout",
     "output_type": "stream",
     "text": [
      "4636984864\n"
     ]
    }
   ],
   "source": [
    "#Example 3.3.2 id test\n",
    "if (id(my_np_array_1) == id(my_np_array_replicated)):\n",
    "    print (id(my_np_array_replicated))"
   ]
  },
  {
   "cell_type": "markdown",
   "metadata": {},
   "source": [
    "## 3.4 Left Blank"
   ]
  },
  {
   "cell_type": "markdown",
   "metadata": {},
   "source": [
    "## 3.5 Array Attributes\n",
    "Number of dimensions\n",
    "shape\n",
    "size (number of elements)\n",
    "data type for elements\n",
    "item size for each element within an array\n",
    "type (for the array; not for elements within array)"
   ]
  },
  {
   "cell_type": "code",
   "execution_count": 127,
   "metadata": {},
   "outputs": [
    {
     "data": {
      "text/plain": [
       "array([[[ 0,  1,  2,  3],\n",
       "        [ 4,  5,  6,  7],\n",
       "        [ 8,  9, 10, 11]],\n",
       "\n",
       "       [[12, 13, 14, 15],\n",
       "        [16, 17, 18, 19],\n",
       "        [20, 21, 22, 23]]])"
      ]
     },
     "execution_count": 127,
     "metadata": {},
     "output_type": "execute_result"
    }
   ],
   "source": [
    "a = np.array(np.arange(24).reshape(2,3,4))\n",
    "a"
   ]
  },
  {
   "cell_type": "code",
   "execution_count": 128,
   "metadata": {},
   "outputs": [
    {
     "data": {
      "text/plain": [
       "3"
      ]
     },
     "execution_count": 128,
     "metadata": {},
     "output_type": "execute_result"
    }
   ],
   "source": [
    "a.ndim"
   ]
  },
  {
   "cell_type": "code",
   "execution_count": 129,
   "metadata": {},
   "outputs": [
    {
     "data": {
      "text/plain": [
       "(2, 3, 4)"
      ]
     },
     "execution_count": 129,
     "metadata": {},
     "output_type": "execute_result"
    }
   ],
   "source": [
    "a.shape"
   ]
  },
  {
   "cell_type": "code",
   "execution_count": 130,
   "metadata": {},
   "outputs": [
    {
     "data": {
      "text/plain": [
       "24"
      ]
     },
     "execution_count": 130,
     "metadata": {},
     "output_type": "execute_result"
    }
   ],
   "source": [
    "a.size"
   ]
  },
  {
   "cell_type": "code",
   "execution_count": 131,
   "metadata": {},
   "outputs": [
    {
     "data": {
      "text/plain": [
       "numpy.ndarray"
      ]
     },
     "execution_count": 131,
     "metadata": {},
     "output_type": "execute_result"
    }
   ],
   "source": [
    "type(a)"
   ]
  },
  {
   "cell_type": "code",
   "execution_count": 132,
   "metadata": {},
   "outputs": [
    {
     "data": {
      "text/plain": [
       "dtype('int64')"
      ]
     },
     "execution_count": 132,
     "metadata": {},
     "output_type": "execute_result"
    }
   ],
   "source": [
    "#a data type\n",
    "a.dtype"
   ]
  },
  {
   "cell_type": "markdown",
   "metadata": {},
   "source": [
    "## 3.6 Adding and removing elements"
   ]
  },
  {
   "cell_type": "code",
   "execution_count": 133,
   "metadata": {},
   "outputs": [
    {
     "data": {
      "text/plain": [
       "array([[[ 0,  1,  2,  3],\n",
       "        [ 4,  5,  6,  7],\n",
       "        [ 8,  9, 10, 11]],\n",
       "\n",
       "       [[12, 13, 14, 15],\n",
       "        [16, 17, 18, 19],\n",
       "        [20, 21, 22, 23]]])"
      ]
     },
     "execution_count": 133,
     "metadata": {},
     "output_type": "execute_result"
    }
   ],
   "source": [
    "#append functino ()\n",
    "\n",
    "a"
   ]
  },
  {
   "cell_type": "markdown",
   "metadata": {},
   "source": [
    "## 3.6.1 numpy.append()\n",
    "Numpy append funciton is different then list appemnd funciton \n",
    "\n",
    "Recall that if a was a pyhton list see (my-python-notebooksfrom 0 to 100) adding an element in a list would be e.g. a.append([9,9,9,9]), Howevr if you try the same thing for numpy array you would get the following error below:\n",
    "\n",
    "    AttributeError: 'numpy.ndarray' object has no attribute 'append'"
   ]
  },
  {
   "cell_type": "code",
   "execution_count": 134,
   "metadata": {},
   "outputs": [
    {
     "data": {
      "text/plain": [
       "array([ 0,  1,  2,  3,  4,  5,  6,  7,  8,  9, 10, 11, 12, 13, 14, 15, 16,\n",
       "       17, 18, 19, 20, 21, 22, 23,  9,  9,  9,  9])"
      ]
     },
     "execution_count": 134,
     "metadata": {},
     "output_type": "execute_result"
    }
   ],
   "source": [
    "# Example 3.6.1.1\n",
    "b = np.append(a, [9,9,9,9])\n",
    "b"
   ]
  },
  {
   "cell_type": "code",
   "execution_count": 135,
   "metadata": {},
   "outputs": [
    {
     "data": {
      "text/plain": [
       "(28,)"
      ]
     },
     "execution_count": 135,
     "metadata": {},
     "output_type": "execute_result"
    }
   ],
   "source": [
    "# Example 3.6.1.2\n",
    "b.shape"
   ]
  },
  {
   "cell_type": "code",
   "execution_count": 136,
   "metadata": {},
   "outputs": [
    {
     "data": {
      "text/plain": [
       "array([[ 0,  1,  2,  3],\n",
       "       [ 4,  5,  6,  7],\n",
       "       [ 8,  9, 10, 11],\n",
       "       [12, 13, 14, 15],\n",
       "       [16, 17, 18, 19],\n",
       "       [20, 21, 22, 23],\n",
       "       [ 9,  9,  9,  9]])"
      ]
     },
     "execution_count": 136,
     "metadata": {},
     "output_type": "execute_result"
    }
   ],
   "source": [
    "# Example 3.6.1.3\n",
    "# while you are using reshape function in numpy: the matix should be provided as  a tuple\n",
    "b.reshape( (7,4))"
   ]
  },
  {
   "cell_type": "code",
   "execution_count": 137,
   "metadata": {},
   "outputs": [
    {
     "data": {
      "text/plain": [
       "array([[[ 0,  1,  2,  3],\n",
       "        [ 4,  5,  6,  7],\n",
       "        [ 8,  9, 10, 11]],\n",
       "\n",
       "       [[12, 13, 14, 15],\n",
       "        [16, 17, 18, 19],\n",
       "        [20, 21, 22, 23]]])"
      ]
     },
     "execution_count": 137,
     "metadata": {},
     "output_type": "execute_result"
    }
   ],
   "source": [
    "# Example 3.6.1.4\n",
    "#observe the a \n",
    "a"
   ]
  },
  {
   "cell_type": "code",
   "execution_count": 138,
   "metadata": {},
   "outputs": [
    {
     "data": {
      "text/plain": [
       "(2, 3, 4)"
      ]
     },
     "execution_count": 138,
     "metadata": {},
     "output_type": "execute_result"
    }
   ],
   "source": [
    "# Example 3.6.1.5\n",
    "#since b and a is different numpy arrays,: recall taht we created b while using a as a resource\n",
    "#see a is still the same since b is a different numpy array\n",
    "a.shape"
   ]
  },
  {
   "cell_type": "code",
   "execution_count": 139,
   "metadata": {},
   "outputs": [
    {
     "data": {
      "text/plain": [
       "(2, 3, 4)"
      ]
     },
     "execution_count": 139,
     "metadata": {},
     "output_type": "execute_result"
    }
   ],
   "source": [
    "# Example 3.6.1.6\n",
    "# we can merge these np arrays as a new np array\n",
    "c = np.array(np.arange(24).reshape(2,3,4))*100+7\n",
    "c.shape"
   ]
  },
  {
   "cell_type": "code",
   "execution_count": 140,
   "metadata": {},
   "outputs": [
    {
     "data": {
      "text/plain": [
       "array([[[   7,  107,  207,  307],\n",
       "        [ 407,  507,  607,  707],\n",
       "        [ 807,  907, 1007, 1107]],\n",
       "\n",
       "       [[1207, 1307, 1407, 1507],\n",
       "        [1607, 1707, 1807, 1907],\n",
       "        [2007, 2107, 2207, 2307]]])"
      ]
     },
     "execution_count": 140,
     "metadata": {},
     "output_type": "execute_result"
    }
   ],
   "source": [
    "# Example 3.6.1.7\n",
    "c"
   ]
  },
  {
   "cell_type": "code",
   "execution_count": 141,
   "metadata": {},
   "outputs": [
    {
     "data": {
      "text/plain": [
       "array([[[   0,    1,    2,    3],\n",
       "        [   4,    5,    6,    7],\n",
       "        [   8,    9,   10,   11]],\n",
       "\n",
       "       [[  12,   13,   14,   15],\n",
       "        [  16,   17,   18,   19],\n",
       "        [  20,   21,   22,   23]],\n",
       "\n",
       "       [[   7,  107,  207,  307],\n",
       "        [ 407,  507,  607,  707],\n",
       "        [ 807,  907, 1007, 1107]],\n",
       "\n",
       "       [[1207, 1307, 1407, 1507],\n",
       "        [1607, 1707, 1807, 1907],\n",
       "        [2007, 2107, 2207, 2307]]])"
      ]
     },
     "execution_count": 141,
     "metadata": {},
     "output_type": "execute_result"
    }
   ],
   "source": [
    "# Example 3.6.1.8\n",
    "#merge along the axis = 0\n",
    "merged_numy_arrays_axis0 = np.append(a,c, axis=0)\n",
    "merged_numy_arrays_axis0"
   ]
  },
  {
   "cell_type": "code",
   "execution_count": 142,
   "metadata": {},
   "outputs": [
    {
     "data": {
      "text/plain": [
       "(4, 3, 4)"
      ]
     },
     "execution_count": 142,
     "metadata": {},
     "output_type": "execute_result"
    }
   ],
   "source": [
    "# Example 3.6.1.9\n",
    "merged_numy_arrays_axis0.shape"
   ]
  },
  {
   "cell_type": "code",
   "execution_count": 143,
   "metadata": {},
   "outputs": [
    {
     "data": {
      "text/plain": [
       "array([[[   0,    1,    2,    3],\n",
       "        [   4,    5,    6,    7],\n",
       "        [   8,    9,   10,   11],\n",
       "        [   7,  107,  207,  307],\n",
       "        [ 407,  507,  607,  707],\n",
       "        [ 807,  907, 1007, 1107]],\n",
       "\n",
       "       [[  12,   13,   14,   15],\n",
       "        [  16,   17,   18,   19],\n",
       "        [  20,   21,   22,   23],\n",
       "        [1207, 1307, 1407, 1507],\n",
       "        [1607, 1707, 1807, 1907],\n",
       "        [2007, 2107, 2207, 2307]]])"
      ]
     },
     "execution_count": 143,
     "metadata": {},
     "output_type": "execute_result"
    }
   ],
   "source": [
    "# Example 3.6.1.9\n",
    "#merge along the axis = 1\n",
    "merged_numy_arrays_axis1 = np.append(a,c, axis=1)\n",
    "merged_numy_arrays_axis1"
   ]
  },
  {
   "cell_type": "code",
   "execution_count": 144,
   "metadata": {},
   "outputs": [
    {
     "data": {
      "text/plain": [
       "(2, 6, 4)"
      ]
     },
     "execution_count": 144,
     "metadata": {},
     "output_type": "execute_result"
    }
   ],
   "source": [
    "# Example 3.6.1.10\n",
    "merged_numy_arrays_axis1.shape"
   ]
  },
  {
   "cell_type": "code",
   "execution_count": 145,
   "metadata": {},
   "outputs": [
    {
     "data": {
      "text/plain": [
       "array([[[   0,    1,    2,    3,    7,  107,  207,  307],\n",
       "        [   4,    5,    6,    7,  407,  507,  607,  707],\n",
       "        [   8,    9,   10,   11,  807,  907, 1007, 1107]],\n",
       "\n",
       "       [[  12,   13,   14,   15, 1207, 1307, 1407, 1507],\n",
       "        [  16,   17,   18,   19, 1607, 1707, 1807, 1907],\n",
       "        [  20,   21,   22,   23, 2007, 2107, 2207, 2307]]])"
      ]
     },
     "execution_count": 145,
     "metadata": {},
     "output_type": "execute_result"
    }
   ],
   "source": [
    "# Example 3.6.1.11\n",
    "#merge along the axis = 2\n",
    "merged_numy_arrays_axis2 = np.append(a,c, axis=2)\n",
    "merged_numy_arrays_axis2"
   ]
  },
  {
   "cell_type": "code",
   "execution_count": 146,
   "metadata": {},
   "outputs": [
    {
     "data": {
      "text/plain": [
       "(2, 3, 8)"
      ]
     },
     "execution_count": 146,
     "metadata": {},
     "output_type": "execute_result"
    }
   ],
   "source": [
    "# Example 3.6.12\n",
    "merged_numy_arrays_axis2.shape"
   ]
  },
  {
   "cell_type": "markdown",
   "metadata": {},
   "source": [
    "## 3.7 insert ()\n",
    "\n",
    "It's usually a good idea to have a look at the numpy documentation, regarding the obj parameter of insert funciton, you might think thet the information in the values parameter will be inserted within the array.\n",
    "\n",
    "Similar to using index slices in array selection, however usually the insert means to place something within an existing data structure. \n",
    "\n",
    "The NumPy's insert function creates a new array with new data. Notice that the array input is not changed. See the example below"
   ]
  },
  {
   "cell_type": "code",
   "execution_count": 147,
   "metadata": {},
   "outputs": [
    {
     "data": {
      "text/plain": [
       "array([[[   7,  107,  207,  307],\n",
       "        [ 407,  507,  607,  707],\n",
       "        [ 807,  907, 1007, 1107]],\n",
       "\n",
       "       [[1207, 1307, 1407, 1507],\n",
       "        [1607, 1707, 1807, 1907],\n",
       "        [2007, 2107, 2207, 2307]]])"
      ]
     },
     "execution_count": 147,
     "metadata": {},
     "output_type": "execute_result"
    }
   ],
   "source": [
    "## 3.7.1 Example Insert function\n",
    "#Recall the C\n",
    "c"
   ]
  },
  {
   "cell_type": "code",
   "execution_count": 148,
   "metadata": {},
   "outputs": [
    {
     "data": {
      "text/plain": [
       "array([[[ 444,  444,  444,  444],\n",
       "        [ 444,  444,  444,  444],\n",
       "        [ 444,  444,  444,  444]],\n",
       "\n",
       "       [[   7,  107,  207,  307],\n",
       "        [ 407,  507,  607,  707],\n",
       "        [ 807,  907, 1007, 1107]],\n",
       "\n",
       "       [[1207, 1307, 1407, 1507],\n",
       "        [1607, 1707, 1807, 1907],\n",
       "        [2007, 2107, 2207, 2307]]])"
      ]
     },
     "execution_count": 148,
     "metadata": {},
     "output_type": "execute_result"
    }
   ],
   "source": [
    "## 3.7.2 Example Insert function\n",
    "#np.insert(c,\"location\" =0 , \"value=\"444,axis=0)\n",
    "new_insert_numpy_0 = np.insert(c,0,444,axis=0)\n",
    "new_insert_numpy_0 "
   ]
  },
  {
   "cell_type": "code",
   "execution_count": 149,
   "metadata": {},
   "outputs": [
    {
     "data": {
      "text/plain": [
       "array([[[ 444,  444,  444,  444],\n",
       "        [ 444,  444,  444,  444],\n",
       "        [ 444,  444,  444,  444]],\n",
       "\n",
       "       [[   7,  107,  207,  307],\n",
       "        [ 407,  507,  607,  707],\n",
       "        [ 807,  907, 1007, 1107]],\n",
       "\n",
       "       [[1207, 1307, 1407, 1507],\n",
       "        [1607, 1707, 1807, 1907],\n",
       "        [2007, 2107, 2207, 2307]]])"
      ]
     },
     "execution_count": 149,
     "metadata": {},
     "output_type": "execute_result"
    }
   ],
   "source": [
    "## 3.7.3 Example Insert function\n",
    "new_insert_numpy_1 = np.insert(c,0,444,axis=0)\n",
    "new_insert_numpy_1 "
   ]
  },
  {
   "cell_type": "code",
   "execution_count": 150,
   "metadata": {},
   "outputs": [
    {
     "data": {
      "text/plain": [
       "array([[[0.0000e+000, 4.9407e-322, 9.8813e-322, 1.4822e-321],\n",
       "        [1.9763e-321, 2.4703e-321, 2.9644e-321, 3.4585e-321],\n",
       "        [3.9525e-321, 4.4466e-321, 4.9407e-321, 5.4347e-321]],\n",
       "\n",
       "       [[5.9288e-321, 6.4229e-321, 6.9169e-321, 7.4110e-321],\n",
       "        [7.9051e-321, 8.3991e-321, 8.8932e-321, 9.3872e-321],\n",
       "        [9.8813e-321, 1.0375e-320, 1.0869e-320, 1.1364e-320]]])"
      ]
     },
     "execution_count": 150,
     "metadata": {},
     "output_type": "execute_result"
    }
   ],
   "source": [
    "## 3.7.4 Example Insert function\n",
    "new_d_array = np.empty(c.shape)\n",
    "new_d_array"
   ]
  },
  {
   "cell_type": "markdown",
   "metadata": {},
   "source": [
    "## 3.8 np.copyto()"
   ]
  },
  {
   "cell_type": "code",
   "execution_count": 151,
   "metadata": {},
   "outputs": [
    {
     "data": {
      "text/plain": [
       "array([[[   7.,  107.,  207.,  307.],\n",
       "        [ 407.,  507.,  607.,  707.],\n",
       "        [ 807.,  907., 1007., 1107.]],\n",
       "\n",
       "       [[1207., 1307., 1407., 1507.],\n",
       "        [1607., 1707., 1807., 1907.],\n",
       "        [2007., 2107., 2207., 2307.]]])"
      ]
     },
     "execution_count": 151,
     "metadata": {},
     "output_type": "execute_result"
    }
   ],
   "source": [
    "## 3.8.1 Example Insert function\n",
    "np.copyto(new_d_array,c)\n",
    "new_d_array"
   ]
  },
  {
   "cell_type": "markdown",
   "metadata": {},
   "source": [
    "## 3.9 np.delete()"
   ]
  },
  {
   "cell_type": "code",
   "execution_count": 152,
   "metadata": {},
   "outputs": [
    {
     "data": {
      "text/plain": [
       "array([[[   7.,  107.,  207.,  307.],\n",
       "        [ 407.,  507.,  607.,  707.],\n",
       "        [ 807.,  907., 1007., 1107.]]])"
      ]
     },
     "execution_count": 152,
     "metadata": {},
     "output_type": "execute_result"
    }
   ],
   "source": [
    "## 3.9.1 Example Insert function\n",
    "np.delete(new_d_array,1,axis=0)"
   ]
  },
  {
   "cell_type": "code",
   "execution_count": 153,
   "metadata": {},
   "outputs": [
    {
     "data": {
      "text/plain": [
       "array([[[   7.,  107.,  207.,  307.],\n",
       "        [ 407.,  507.,  607.,  707.],\n",
       "        [ 807.,  907., 1007., 1107.]],\n",
       "\n",
       "       [[1207., 1307., 1407., 1507.],\n",
       "        [1607., 1707., 1807., 1907.],\n",
       "        [2007., 2107., 2207., 2307.]]])"
      ]
     },
     "execution_count": 153,
     "metadata": {},
     "output_type": "execute_result"
    }
   ],
   "source": [
    "#observe the new_d_array parameter is still the same\n",
    "new_d_array"
   ]
  },
  {
   "cell_type": "markdown",
   "metadata": {},
   "source": [
    "## 3.10 Join and Split\n",
    "\n",
    "- concatenate\n",
    "- stack\n",
    "- split"
   ]
  },
  {
   "cell_type": "code",
   "execution_count": 154,
   "metadata": {},
   "outputs": [
    {
     "data": {
      "text/plain": [
       "array([[1, 2],\n",
       "       [3, 4]])"
      ]
     },
     "execution_count": 154,
     "metadata": {},
     "output_type": "execute_result"
    }
   ],
   "source": [
    "a = np.array([[1,2],[3,4]])\n",
    "b = np.array([[5,6]])\n",
    "a"
   ]
  },
  {
   "cell_type": "code",
   "execution_count": 155,
   "metadata": {},
   "outputs": [
    {
     "data": {
      "text/plain": [
       "array([[5, 6]])"
      ]
     },
     "execution_count": 155,
     "metadata": {},
     "output_type": "execute_result"
    }
   ],
   "source": [
    "b"
   ]
  },
  {
   "cell_type": "code",
   "execution_count": 156,
   "metadata": {},
   "outputs": [
    {
     "data": {
      "text/plain": [
       "array([[1, 2],\n",
       "       [3, 4],\n",
       "       [5, 6]])"
      ]
     },
     "execution_count": 156,
     "metadata": {},
     "output_type": "execute_result"
    }
   ],
   "source": [
    "a_b_together = np.concatenate((a,b), axis=0)\n",
    "a_b_together"
   ]
  },
  {
   "cell_type": "code",
   "execution_count": 157,
   "metadata": {},
   "outputs": [
    {
     "data": {
      "text/plain": [
       "(3, 2)"
      ]
     },
     "execution_count": 157,
     "metadata": {},
     "output_type": "execute_result"
    }
   ],
   "source": [
    "a_b_together.shape"
   ]
  },
  {
   "cell_type": "code",
   "execution_count": 158,
   "metadata": {},
   "outputs": [],
   "source": [
    "a_b_together[1,1] = 555"
   ]
  },
  {
   "cell_type": "code",
   "execution_count": 159,
   "metadata": {},
   "outputs": [
    {
     "data": {
      "text/plain": [
       "array([[  1,   2],\n",
       "       [  3, 555],\n",
       "       [  5,   6]])"
      ]
     },
     "execution_count": 159,
     "metadata": {},
     "output_type": "execute_result"
    }
   ],
   "source": [
    "a_b_together"
   ]
  },
  {
   "cell_type": "code",
   "execution_count": 160,
   "metadata": {},
   "outputs": [
    {
     "data": {
      "text/plain": [
       "array([[1, 2],\n",
       "       [3, 4]])"
      ]
     },
     "execution_count": 160,
     "metadata": {},
     "output_type": "execute_result"
    }
   ],
   "source": [
    "#observe a is still same after the 555 assignment\n",
    "a"
   ]
  },
  {
   "cell_type": "code",
   "execution_count": 161,
   "metadata": {},
   "outputs": [
    {
     "data": {
      "text/plain": [
       "array([[5, 6]])"
      ]
     },
     "execution_count": 161,
     "metadata": {},
     "output_type": "execute_result"
    }
   ],
   "source": [
    "#observe b is still same after the 555 assignment\n",
    "b"
   ]
  },
  {
   "cell_type": "code",
   "execution_count": 162,
   "metadata": {},
   "outputs": [
    {
     "data": {
      "text/plain": [
       "array([[11, 21],\n",
       "       [31, 41]])"
      ]
     },
     "execution_count": 162,
     "metadata": {},
     "output_type": "execute_result"
    }
   ],
   "source": [
    "#lets creat a new np arry called c\n",
    "c = np.array([[1,2],[3,4]])*10+1\n",
    "c"
   ]
  },
  {
   "cell_type": "code",
   "execution_count": 163,
   "metadata": {},
   "outputs": [
    {
     "data": {
      "text/plain": [
       "array([[11, 21,  1,  2],\n",
       "       [31, 41,  3,  4]])"
      ]
     },
     "execution_count": 163,
     "metadata": {},
     "output_type": "execute_result"
    }
   ],
   "source": [
    "#lets merge them on axis=1\n",
    "\n",
    "np.concatenate((c,a),axis=1)"
   ]
  },
  {
   "cell_type": "markdown",
   "metadata": {},
   "source": [
    "## 3.11 Stack ()\n",
    "to be able to explain lets create a list of five arrays, each of which has three rows and four columns. \n",
    "\n",
    "In these rows and columns, the elements are populated with normally distributed random numbers. Here we create the array, starting with np.0. Five by three by four, so it's 15 times four, you will have 60 elements. Now we'll use a control statement, a for loop, and assign a random value with a mean of three, and a standard deviation of four, to each element within the array.\n",
    "\n",
    "Here we see, we have five two-dimensional arrays, each which contains three rows, and each of which contains four columns. This snippet constructs three variables, three stacks, with names Stack0, Stack1, and Stack2. The difference among these, is that the stacking takes place along axis=0, axis=1, and axis=2. Let's examine each of these variables. Stack0, contains all of the elements in the original array.\n"
   ]
  },
  {
   "cell_type": "code",
   "execution_count": 164,
   "metadata": {},
   "outputs": [
    {
     "data": {
      "text/plain": [
       "array([[[ 0.21249666, -1.24649414, -0.84385791, -0.87570998],\n",
       "        [ 0.24079929, -0.56039296,  1.10539285, -1.19414436],\n",
       "        [-1.96736069, -0.15750028,  0.59198721, -0.25995198]],\n",
       "\n",
       "       [[-0.05093031,  0.43136016,  0.06906312, -0.4729625 ],\n",
       "        [ 0.63738353,  1.74860612, -0.71183562,  0.20867779],\n",
       "        [-0.28223791,  0.7507659 ,  0.32136353, -1.13264415]],\n",
       "\n",
       "       [[-0.13186487, -0.95190209, -1.78519206,  1.24681227],\n",
       "        [-1.10109429,  1.02294222,  0.93052695,  0.10911138],\n",
       "        [ 0.15056369,  0.72124631,  0.99256927, -1.14255489]],\n",
       "\n",
       "       [[-1.39911027,  1.8784721 ,  2.08375407, -0.77265912],\n",
       "        [ 2.12360609, -1.61229158,  2.29270475,  0.10304787],\n",
       "        [-1.37673711,  0.53518715, -2.17539556,  0.86335757]],\n",
       "\n",
       "       [[ 0.17555575,  0.23527445,  0.0945386 ,  0.66791525],\n",
       "        [ 0.45838548, -1.57669683, -0.08249042, -1.0301924 ],\n",
       "        [ 1.0331703 , -0.30675064, -0.8015047 ,  0.62333212]]])"
      ]
     },
     "execution_count": 164,
     "metadata": {},
     "output_type": "execute_result"
    }
   ],
   "source": [
    "my_arr = np.zeros((5,3,4))\n",
    "for n in range(5):\n",
    "    my_arr[n] = np.random.randn(3,4)\n",
    "my_arr"
   ]
  },
  {
   "cell_type": "code",
   "execution_count": 165,
   "metadata": {},
   "outputs": [],
   "source": [
    "my_stack0 = np.stack(my_arr,axis=0)\n",
    "my_stack1 = np.stack(my_arr,axis=1)\n",
    "my_stack2 = np.stack(my_arr,axis=2)"
   ]
  },
  {
   "cell_type": "code",
   "execution_count": 166,
   "metadata": {},
   "outputs": [
    {
     "data": {
      "text/plain": [
       "array([[[ 0.21249666, -1.24649414, -0.84385791, -0.87570998],\n",
       "        [ 0.24079929, -0.56039296,  1.10539285, -1.19414436],\n",
       "        [-1.96736069, -0.15750028,  0.59198721, -0.25995198]],\n",
       "\n",
       "       [[-0.05093031,  0.43136016,  0.06906312, -0.4729625 ],\n",
       "        [ 0.63738353,  1.74860612, -0.71183562,  0.20867779],\n",
       "        [-0.28223791,  0.7507659 ,  0.32136353, -1.13264415]],\n",
       "\n",
       "       [[-0.13186487, -0.95190209, -1.78519206,  1.24681227],\n",
       "        [-1.10109429,  1.02294222,  0.93052695,  0.10911138],\n",
       "        [ 0.15056369,  0.72124631,  0.99256927, -1.14255489]],\n",
       "\n",
       "       [[-1.39911027,  1.8784721 ,  2.08375407, -0.77265912],\n",
       "        [ 2.12360609, -1.61229158,  2.29270475,  0.10304787],\n",
       "        [-1.37673711,  0.53518715, -2.17539556,  0.86335757]],\n",
       "\n",
       "       [[ 0.17555575,  0.23527445,  0.0945386 ,  0.66791525],\n",
       "        [ 0.45838548, -1.57669683, -0.08249042, -1.0301924 ],\n",
       "        [ 1.0331703 , -0.30675064, -0.8015047 ,  0.62333212]]])"
      ]
     },
     "execution_count": 166,
     "metadata": {},
     "output_type": "execute_result"
    }
   ],
   "source": [
    "#my_stack0 contains all the element sin the original array\n",
    "my_stack0"
   ]
  },
  {
   "cell_type": "code",
   "execution_count": 167,
   "metadata": {},
   "outputs": [
    {
     "data": {
      "text/plain": [
       "array([[[ 0.21249666, -1.24649414, -0.84385791, -0.87570998],\n",
       "        [-0.05093031,  0.43136016,  0.06906312, -0.4729625 ],\n",
       "        [-0.13186487, -0.95190209, -1.78519206,  1.24681227],\n",
       "        [-1.39911027,  1.8784721 ,  2.08375407, -0.77265912],\n",
       "        [ 0.17555575,  0.23527445,  0.0945386 ,  0.66791525]],\n",
       "\n",
       "       [[ 0.24079929, -0.56039296,  1.10539285, -1.19414436],\n",
       "        [ 0.63738353,  1.74860612, -0.71183562,  0.20867779],\n",
       "        [-1.10109429,  1.02294222,  0.93052695,  0.10911138],\n",
       "        [ 2.12360609, -1.61229158,  2.29270475,  0.10304787],\n",
       "        [ 0.45838548, -1.57669683, -0.08249042, -1.0301924 ]],\n",
       "\n",
       "       [[-1.96736069, -0.15750028,  0.59198721, -0.25995198],\n",
       "        [-0.28223791,  0.7507659 ,  0.32136353, -1.13264415],\n",
       "        [ 0.15056369,  0.72124631,  0.99256927, -1.14255489],\n",
       "        [-1.37673711,  0.53518715, -2.17539556,  0.86335757],\n",
       "        [ 1.0331703 , -0.30675064, -0.8015047 ,  0.62333212]]])"
      ]
     },
     "execution_count": 167,
     "metadata": {},
     "output_type": "execute_result"
    }
   ],
   "source": [
    "# Contains first 3x4 elements\n",
    "my_stack1"
   ]
  },
  {
   "cell_type": "code",
   "execution_count": 168,
   "metadata": {},
   "outputs": [
    {
     "data": {
      "text/plain": [
       "array([[[ 0.21249666, -0.05093031, -0.13186487, -1.39911027,\n",
       "          0.17555575],\n",
       "        [-1.24649414,  0.43136016, -0.95190209,  1.8784721 ,\n",
       "          0.23527445],\n",
       "        [-0.84385791,  0.06906312, -1.78519206,  2.08375407,\n",
       "          0.0945386 ],\n",
       "        [-0.87570998, -0.4729625 ,  1.24681227, -0.77265912,\n",
       "          0.66791525]],\n",
       "\n",
       "       [[ 0.24079929,  0.63738353, -1.10109429,  2.12360609,\n",
       "          0.45838548],\n",
       "        [-0.56039296,  1.74860612,  1.02294222, -1.61229158,\n",
       "         -1.57669683],\n",
       "        [ 1.10539285, -0.71183562,  0.93052695,  2.29270475,\n",
       "         -0.08249042],\n",
       "        [-1.19414436,  0.20867779,  0.10911138,  0.10304787,\n",
       "         -1.0301924 ]],\n",
       "\n",
       "       [[-1.96736069, -0.28223791,  0.15056369, -1.37673711,\n",
       "          1.0331703 ],\n",
       "        [-0.15750028,  0.7507659 ,  0.72124631,  0.53518715,\n",
       "         -0.30675064],\n",
       "        [ 0.59198721,  0.32136353,  0.99256927, -2.17539556,\n",
       "         -0.8015047 ],\n",
       "        [-0.25995198, -1.13264415, -1.14255489,  0.86335757,\n",
       "          0.62333212]]])"
      ]
     },
     "execution_count": 168,
     "metadata": {},
     "output_type": "execute_result"
    }
   ],
   "source": [
    "#contains second 3x4 elements\n",
    "my_stack2"
   ]
  },
  {
   "cell_type": "markdown",
   "metadata": {},
   "source": [
    "## 3.12 Split ()\n",
    "\n",
    "http://docs.scipy.org/doc/numpy/reference/generated/numpy.split.html\n",
    "\n",
    "NumPy Split function, separates arrays into two or more sub-arrays. \n",
    "\n",
    "If the parameter in the Split function is less than one, the function returns an error. If the parameter is equal to one, in this case, we're using the split function, with our temp array, the parameter equal to one, it returns the original array. Now we'll re-use the random numbers in our Stack variable to illustrate the split function. Recall, that before splitting, the stack is a three-dimensional array, with 60 elements. We can illustrate this, by showing the shape of before split.\n",
    "\n",
    "Which is equal to the variable Stack0. The first thing that we'll do, is create a new variable, s0, using NumPy's Split function. We'll take our before split, which is equal to Stack0, and separate it into five new arrays, along the axis equal to zero. We can display this result, and it looks very similar to before split and Stack0. Let's look at the type for s0.\n",
    "\n",
    "It's a NumPy list. Let's look at the components within s0. Each component within s0 is a two-dimensional array, with three rows, and four columns. Let's look at the shape of this, and so we have shape, and the shape is one two-dimensional array, which has three rows, and four columns. Let's use Split again, and this time, we'll split along axis=1, and we'll call the resulting variable s1.\n",
    "\n",
    "Let's do the same thing one more time. We'll create another variable, s2, where you split, again, we'll use the before-split variable, we'll want to create four new arrays, along axis=2. And here we see the result displayed. In this video, we examined techniques for joining and splitting arrays, in particular, we looked at concatenation, and splitting."
   ]
  },
  {
   "cell_type": "code",
   "execution_count": 169,
   "metadata": {},
   "outputs": [
    {
     "data": {
      "text/plain": [
       "[array([0, 1, 2, 3, 4])]"
      ]
     },
     "execution_count": 169,
     "metadata": {},
     "output_type": "execute_result"
    }
   ],
   "source": [
    "temp = np.arange(5)\n",
    "np.split(temp,1)"
   ]
  },
  {
   "cell_type": "code",
   "execution_count": 170,
   "metadata": {},
   "outputs": [
    {
     "data": {
      "text/plain": [
       "(5, 3, 4)"
      ]
     },
     "execution_count": 170,
     "metadata": {},
     "output_type": "execute_result"
    }
   ],
   "source": [
    "before_split = my_stack0\n",
    "before_split.shape"
   ]
  },
  {
   "cell_type": "code",
   "execution_count": 171,
   "metadata": {},
   "outputs": [
    {
     "data": {
      "text/plain": [
       "[array([[[ 0.21249666, -1.24649414, -0.84385791, -0.87570998],\n",
       "         [ 0.24079929, -0.56039296,  1.10539285, -1.19414436],\n",
       "         [-1.96736069, -0.15750028,  0.59198721, -0.25995198]]]),\n",
       " array([[[-0.05093031,  0.43136016,  0.06906312, -0.4729625 ],\n",
       "         [ 0.63738353,  1.74860612, -0.71183562,  0.20867779],\n",
       "         [-0.28223791,  0.7507659 ,  0.32136353, -1.13264415]]]),\n",
       " array([[[-0.13186487, -0.95190209, -1.78519206,  1.24681227],\n",
       "         [-1.10109429,  1.02294222,  0.93052695,  0.10911138],\n",
       "         [ 0.15056369,  0.72124631,  0.99256927, -1.14255489]]]),\n",
       " array([[[-1.39911027,  1.8784721 ,  2.08375407, -0.77265912],\n",
       "         [ 2.12360609, -1.61229158,  2.29270475,  0.10304787],\n",
       "         [-1.37673711,  0.53518715, -2.17539556,  0.86335757]]]),\n",
       " array([[[ 0.17555575,  0.23527445,  0.0945386 ,  0.66791525],\n",
       "         [ 0.45838548, -1.57669683, -0.08249042, -1.0301924 ],\n",
       "         [ 1.0331703 , -0.30675064, -0.8015047 ,  0.62333212]]])]"
      ]
     },
     "execution_count": 171,
     "metadata": {},
     "output_type": "execute_result"
    }
   ],
   "source": [
    "s0=np.split (before_split, 5, axis=0)\n",
    "s0"
   ]
  },
  {
   "cell_type": "code",
   "execution_count": 172,
   "metadata": {},
   "outputs": [
    {
     "data": {
      "text/plain": [
       "list"
      ]
     },
     "execution_count": 172,
     "metadata": {},
     "output_type": "execute_result"
    }
   ],
   "source": [
    "type(s0)"
   ]
  },
  {
   "cell_type": "code",
   "execution_count": 173,
   "metadata": {},
   "outputs": [
    {
     "data": {
      "text/plain": [
       "array([[[-0.05093031,  0.43136016,  0.06906312, -0.4729625 ],\n",
       "        [ 0.63738353,  1.74860612, -0.71183562,  0.20867779],\n",
       "        [-0.28223791,  0.7507659 ,  0.32136353, -1.13264415]]])"
      ]
     },
     "execution_count": 173,
     "metadata": {},
     "output_type": "execute_result"
    }
   ],
   "source": [
    "s0[1]"
   ]
  },
  {
   "cell_type": "code",
   "execution_count": 174,
   "metadata": {},
   "outputs": [
    {
     "data": {
      "text/plain": [
       "(1, 3, 4)"
      ]
     },
     "execution_count": 174,
     "metadata": {},
     "output_type": "execute_result"
    }
   ],
   "source": [
    "s0[1].shape"
   ]
  },
  {
   "cell_type": "code",
   "execution_count": 175,
   "metadata": {},
   "outputs": [],
   "source": [
    "#do the same for s1 and s2"
   ]
  },
  {
   "cell_type": "markdown",
   "metadata": {},
   "source": [
    "## 3.13 np.reshape()\n",
    "http://docs.scipy.org/doc/numpy/reference/generated/numpy.reshape.html#numpy.reshape\n",
    "\n"
   ]
  },
  {
   "cell_type": "code",
   "execution_count": 176,
   "metadata": {},
   "outputs": [
    {
     "data": {
      "text/plain": [
       "array([ 0,  1,  2,  3,  4,  5,  6,  7,  8,  9, 10, 11, 12, 13, 14, 15, 16,\n",
       "       17, 18, 19, 20, 21, 22, 23])"
      ]
     },
     "execution_count": 176,
     "metadata": {},
     "output_type": "execute_result"
    }
   ],
   "source": [
    "my_new_array = np.array(np.arange(24))\n",
    "my_new_array"
   ]
  },
  {
   "cell_type": "code",
   "execution_count": 177,
   "metadata": {},
   "outputs": [
    {
     "data": {
      "text/plain": [
       "array([[ 0,  1,  2,  3,  4,  5,  6,  7],\n",
       "       [ 8,  9, 10, 11, 12, 13, 14, 15],\n",
       "       [16, 17, 18, 19, 20, 21, 22, 23]])"
      ]
     },
     "execution_count": 177,
     "metadata": {},
     "output_type": "execute_result"
    }
   ],
   "source": [
    "my_new_array = my_new_array.reshape(3,8)\n",
    "my_new_array"
   ]
  },
  {
   "cell_type": "markdown",
   "metadata": {},
   "source": [
    "## 3.13 np.ravel()\n",
    "returns one dimentional array"
   ]
  },
  {
   "cell_type": "code",
   "execution_count": 178,
   "metadata": {},
   "outputs": [
    {
     "data": {
      "text/plain": [
       "array([ 0,  1,  2,  3,  4,  5,  6,  7,  8,  9, 10, 11, 12, 13, 14, 15, 16,\n",
       "       17, 18, 19, 20, 21, 22, 23])"
      ]
     },
     "execution_count": 178,
     "metadata": {},
     "output_type": "execute_result"
    }
   ],
   "source": [
    "my_new_ravel_array = my_new_array.ravel()\n",
    "my_new_ravel_array"
   ]
  },
  {
   "cell_type": "markdown",
   "metadata": {},
   "source": [
    "## 3.14 np.flat\n",
    "enables to iterates elemnt of the numpy array this is very useful in the for loop"
   ]
  },
  {
   "cell_type": "code",
   "execution_count": 179,
   "metadata": {},
   "outputs": [
    {
     "name": "stdout",
     "output_type": "stream",
     "text": [
      "0\n",
      "1\n",
      "2\n",
      "3\n",
      "4\n",
      "5\n",
      "6\n",
      "7\n",
      "8\n",
      "9\n",
      "10\n",
      "11\n",
      "12\n",
      "13\n",
      "14\n",
      "15\n",
      "16\n",
      "17\n",
      "18\n",
      "19\n",
      "20\n",
      "21\n",
      "22\n",
      "23\n"
     ]
    }
   ],
   "source": [
    "for i in my_new_array.flat:\n",
    "    print (i)"
   ]
  },
  {
   "cell_type": "markdown",
   "metadata": {},
   "source": [
    "## 3.15 np.fliplr (my_array )\n",
    "-flip left right enable to reverse the rows and columns. Let's examine an example \n",
    "there are some more similar functions like e.g. fliplr is a flipud or flip up down."
   ]
  },
  {
   "cell_type": "code",
   "execution_count": 180,
   "metadata": {},
   "outputs": [
    {
     "data": {
      "text/plain": [
       "array([[ 0,  1,  2,  3,  4,  5,  6,  7],\n",
       "       [ 8,  9, 10, 11, 12, 13, 14, 15],\n",
       "       [16, 17, 18, 19, 20, 21, 22, 23]])"
      ]
     },
     "execution_count": 180,
     "metadata": {},
     "output_type": "execute_result"
    }
   ],
   "source": [
    "my_new_array_3_8 = my_new_array.reshape(3,8)\n",
    "my_new_array_3_8\n"
   ]
  },
  {
   "cell_type": "code",
   "execution_count": 181,
   "metadata": {},
   "outputs": [
    {
     "data": {
      "text/plain": [
       "array([[ 7,  6,  5,  4,  3,  2,  1,  0],\n",
       "       [15, 14, 13, 12, 11, 10,  9,  8],\n",
       "       [23, 22, 21, 20, 19, 18, 17, 16]])"
      ]
     },
     "execution_count": 181,
     "metadata": {},
     "output_type": "execute_result"
    }
   ],
   "source": [
    "np.fliplr(my_new_array_3_8)"
   ]
  },
  {
   "cell_type": "code",
   "execution_count": 182,
   "metadata": {},
   "outputs": [
    {
     "data": {
      "text/plain": [
       "array([[[ 0,  1,  2,  3,  4,  5,  6,  7],\n",
       "        [ 8,  9, 10, 11, 12, 13, 14, 15],\n",
       "        [16, 17, 18, 19, 20, 21, 22, 23]],\n",
       "\n",
       "       [[24, 25, 26, 27, 28, 29, 30, 31],\n",
       "        [32, 33, 34, 35, 36, 37, 38, 39],\n",
       "        [40, 41, 42, 43, 44, 45, 46, 47]]])"
      ]
     },
     "execution_count": 182,
     "metadata": {},
     "output_type": "execute_result"
    }
   ],
   "source": [
    "#If we use the flip left right function on my two by three by four array, \n",
    "#the results might be slightly counterintuitive.\n",
    "my_new_array_2_3_8 = np.arange(48).reshape(2,3,8)\n",
    "my_new_array_2_3_8"
   ]
  },
  {
   "cell_type": "code",
   "execution_count": 183,
   "metadata": {},
   "outputs": [
    {
     "data": {
      "text/plain": [
       "array([[[16, 17, 18, 19, 20, 21, 22, 23],\n",
       "        [ 8,  9, 10, 11, 12, 13, 14, 15],\n",
       "        [ 0,  1,  2,  3,  4,  5,  6,  7]],\n",
       "\n",
       "       [[40, 41, 42, 43, 44, 45, 46, 47],\n",
       "        [32, 33, 34, 35, 36, 37, 38, 39],\n",
       "        [24, 25, 26, 27, 28, 29, 30, 31]]])"
      ]
     },
     "execution_count": 183,
     "metadata": {},
     "output_type": "execute_result"
    }
   ],
   "source": [
    "#the arrays are stacked top to bottom.\n",
    "#the function says left to right, but the displayed presentation is bottom to top.\n",
    "np.fliplr(my_new_array_2_3_8)"
   ]
  },
  {
   "cell_type": "markdown",
   "metadata": {},
   "source": [
    "## 3.16 np.roll(my_array)\n",
    "\n",
    "The next function is to examine is roll which is self-explanatory rolls the array (see the exmaple below) five positions or munis five positions."
   ]
  },
  {
   "cell_type": "code",
   "execution_count": 184,
   "metadata": {},
   "outputs": [
    {
     "data": {
      "text/plain": [
       "array([ 0,  1,  2,  3,  4,  5,  6,  7,  8,  9, 10, 11, 12, 13, 14, 15, 16,\n",
       "       17, 18, 19])"
      ]
     },
     "execution_count": 184,
     "metadata": {},
     "output_type": "execute_result"
    }
   ],
   "source": [
    "my_new_arr =np.arange(20)\n",
    "my_new_arr"
   ]
  },
  {
   "cell_type": "code",
   "execution_count": 185,
   "metadata": {},
   "outputs": [
    {
     "data": {
      "text/plain": [
       "array([15, 16, 17, 18, 19,  0,  1,  2,  3,  4,  5,  6,  7,  8,  9, 10, 11,\n",
       "       12, 13, 14])"
      ]
     },
     "execution_count": 185,
     "metadata": {},
     "output_type": "execute_result"
    }
   ],
   "source": [
    "my_rolled_arr_clockwise = np.roll(my_new_arr,5)\n",
    "my_rolled_arr_clockwise"
   ]
  },
  {
   "cell_type": "code",
   "execution_count": 186,
   "metadata": {},
   "outputs": [
    {
     "data": {
      "text/plain": [
       "array([ 5,  6,  7,  8,  9, 10, 11, 12, 13, 14, 15, 16, 17, 18, 19,  0,  1,\n",
       "        2,  3,  4])"
      ]
     },
     "execution_count": 186,
     "metadata": {},
     "output_type": "execute_result"
    }
   ],
   "source": [
    "my_rolled_arr_negative = np.roll(my_new_arr,-5)\n",
    "my_rolled_arr_negative"
   ]
  },
  {
   "cell_type": "markdown",
   "metadata": {},
   "source": [
    "## 3.17 np.rot90(my_array)\n",
    "\n",
    "ROT 90 or rotate 90 degrees enable to rotate the rows and columns clockwise 90 degrees. Furthermore, the Rotate 90 function has a parameter K which allows us to rotate arrays in a negative direction. For instance, if k=-2 it means two times 90 degrees rotation to negative direction"
   ]
  },
  {
   "cell_type": "code",
   "execution_count": 187,
   "metadata": {},
   "outputs": [
    {
     "data": {
      "text/plain": [
       "array([[ 0,  1,  2,  3,  4,  5,  6,  7],\n",
       "       [ 8,  9, 10, 11, 12, 13, 14, 15],\n",
       "       [16, 17, 18, 19, 20, 21, 22, 23]])"
      ]
     },
     "execution_count": 187,
     "metadata": {},
     "output_type": "execute_result"
    }
   ],
   "source": [
    "my_array_3_time_8 = np.arange(24).reshape(3,8)\n",
    "my_array_3_time_8"
   ]
  },
  {
   "cell_type": "code",
   "execution_count": 188,
   "metadata": {},
   "outputs": [
    {
     "data": {
      "text/plain": [
       "array([[ 7, 15, 23],\n",
       "       [ 6, 14, 22],\n",
       "       [ 5, 13, 21],\n",
       "       [ 4, 12, 20],\n",
       "       [ 3, 11, 19],\n",
       "       [ 2, 10, 18],\n",
       "       [ 1,  9, 17],\n",
       "       [ 0,  8, 16]])"
      ]
     },
     "execution_count": 188,
     "metadata": {},
     "output_type": "execute_result"
    }
   ],
   "source": [
    "np.rot90(my_array_3_time_8)"
   ]
  },
  {
   "cell_type": "code",
   "execution_count": 189,
   "metadata": {},
   "outputs": [
    {
     "data": {
      "text/plain": [
       "array([[16,  8,  0],\n",
       "       [17,  9,  1],\n",
       "       [18, 10,  2],\n",
       "       [19, 11,  3],\n",
       "       [20, 12,  4],\n",
       "       [21, 13,  5],\n",
       "       [22, 14,  6],\n",
       "       [23, 15,  7]])"
      ]
     },
     "execution_count": 189,
     "metadata": {},
     "output_type": "execute_result"
    }
   ],
   "source": [
    "np.rot90(my_array_3_time_8,k=-1)"
   ]
  },
  {
   "cell_type": "code",
   "execution_count": 190,
   "metadata": {},
   "outputs": [
    {
     "data": {
      "text/plain": [
       "array([[16,  8,  0],\n",
       "       [17,  9,  1],\n",
       "       [18, 10,  2],\n",
       "       [19, 11,  3],\n",
       "       [20, 12,  4],\n",
       "       [21, 13,  5],\n",
       "       [22, 14,  6],\n",
       "       [23, 15,  7]])"
      ]
     },
     "execution_count": 190,
     "metadata": {},
     "output_type": "execute_result"
    }
   ],
   "source": [
    "np.rot90(my_array_3_time_8,k=-1) # if k=-2 it means two times 90 degrees rotation to negative direction"
   ]
  },
  {
   "cell_type": "markdown",
   "metadata": {},
   "source": [
    "## 3.18 np.transpose, swapaxes and rollaxes\n",
    "\n",
    "For sure the NumPy data structure supports the transpose operation.\n",
    "\n",
    "For a matrix A, which has elements row=I column=J, the element I x J, is transposed into the element A' J x I.\n",
    "\n",
    "\n",
    "As a summary of swapping and transpose and rollaxis \n",
    "    -use np.transpose to permute all the axis at once. \n",
    "    -use np.swapaxes to swap any two axes. \n",
    "    -use np.rollaxis to rotate over the axes. \n",
    "    \n",
    "    "
   ]
  },
  {
   "cell_type": "code",
   "execution_count": 191,
   "metadata": {},
   "outputs": [],
   "source": [
    "my_array = np.arange(24)\n"
   ]
  },
  {
   "cell_type": "code",
   "execution_count": 192,
   "metadata": {},
   "outputs": [
    {
     "data": {
      "text/plain": [
       "array([ 0,  1,  2,  3,  4,  5,  6,  7,  8,  9, 10, 11, 12, 13, 14, 15, 16,\n",
       "       17, 18, 19, 20, 21, 22, 23])"
      ]
     },
     "execution_count": 192,
     "metadata": {},
     "output_type": "execute_result"
    }
   ],
   "source": [
    "#my_array is a one dimensional array, it's transpose is equal to itself.\n",
    "\n",
    "np.transpose(my_array)"
   ]
  },
  {
   "cell_type": "code",
   "execution_count": 193,
   "metadata": {},
   "outputs": [
    {
     "data": {
      "text/plain": [
       "array([[ 0,  1,  2,  3,  4,  5,  6,  7],\n",
       "       [ 8,  9, 10, 11, 12, 13, 14, 15],\n",
       "       [16, 17, 18, 19, 20, 21, 22, 23]])"
      ]
     },
     "execution_count": 193,
     "metadata": {},
     "output_type": "execute_result"
    }
   ],
   "source": [
    "#recall that reshape function takes a tupple\n",
    "my_array_3_8 = my_array.reshape((3,8))\n",
    "my_array_3_8"
   ]
  },
  {
   "cell_type": "code",
   "execution_count": 194,
   "metadata": {},
   "outputs": [
    {
     "data": {
      "text/plain": [
       "array([[ 0,  8, 16],\n",
       "       [ 1,  9, 17],\n",
       "       [ 2, 10, 18],\n",
       "       [ 3, 11, 19],\n",
       "       [ 4, 12, 20],\n",
       "       [ 5, 13, 21],\n",
       "       [ 6, 14, 22],\n",
       "       [ 7, 15, 23]])"
      ]
     },
     "execution_count": 194,
     "metadata": {},
     "output_type": "execute_result"
    }
   ],
   "source": [
    "#see that the rows and columns are exchanged.\n",
    "np.transpose(my_array_3_8)"
   ]
  },
  {
   "cell_type": "code",
   "execution_count": 195,
   "metadata": {},
   "outputs": [
    {
     "data": {
      "text/plain": [
       "array([[[ 0,  1,  2,  3],\n",
       "        [ 4,  5,  6,  7],\n",
       "        [ 8,  9, 10, 11]],\n",
       "\n",
       "       [[12, 13, 14, 15],\n",
       "        [16, 17, 18, 19],\n",
       "        [20, 21, 22, 23]]])"
      ]
     },
     "execution_count": 195,
     "metadata": {},
     "output_type": "execute_result"
    }
   ],
   "source": [
    "my_array_2_3_4 = my_array.reshape((2,3,4))\n",
    "my_array_2_3_4"
   ]
  },
  {
   "cell_type": "code",
   "execution_count": 196,
   "metadata": {},
   "outputs": [
    {
     "data": {
      "text/plain": [
       "array([[[ 0,  4,  8],\n",
       "        [ 1,  5,  9],\n",
       "        [ 2,  6, 10],\n",
       "        [ 3,  7, 11]],\n",
       "\n",
       "       [[12, 16, 20],\n",
       "        [13, 17, 21],\n",
       "        [14, 18, 22],\n",
       "        [15, 19, 23]]])"
      ]
     },
     "execution_count": 196,
     "metadata": {},
     "output_type": "execute_result"
    }
   ],
   "source": [
    "np.transpose(my_array_2_3_4, axes=(0,2,1))"
   ]
  },
  {
   "cell_type": "markdown",
   "metadata": {},
   "source": [
    "## 3.18.1 np.swapaxes(my_array) \n",
    "see the example below which is self explanatory"
   ]
  },
  {
   "cell_type": "code",
   "execution_count": 197,
   "metadata": {},
   "outputs": [
    {
     "data": {
      "text/plain": [
       "array([[[ 0,  1,  2,  3],\n",
       "        [12, 13, 14, 15]],\n",
       "\n",
       "       [[ 4,  5,  6,  7],\n",
       "        [16, 17, 18, 19]],\n",
       "\n",
       "       [[ 8,  9, 10, 11],\n",
       "        [20, 21, 22, 23]]])"
      ]
     },
     "execution_count": 197,
     "metadata": {},
     "output_type": "execute_result"
    }
   ],
   "source": [
    "np.swapaxes(my_array_2_3_4, 1, 0)"
   ]
  },
  {
   "cell_type": "markdown",
   "metadata": {},
   "source": [
    "## 3.18.2 np.rollaxes(my_array)\n",
    "see the example below which is self explanatory"
   ]
  },
  {
   "cell_type": "code",
   "execution_count": 198,
   "metadata": {},
   "outputs": [
    {
     "data": {
      "text/plain": [
       "array([[[ 0,  1,  2,  3],\n",
       "        [12, 13, 14, 15]],\n",
       "\n",
       "       [[ 4,  5,  6,  7],\n",
       "        [16, 17, 18, 19]],\n",
       "\n",
       "       [[ 8,  9, 10, 11],\n",
       "        [20, 21, 22, 23]]])"
      ]
     },
     "execution_count": 198,
     "metadata": {},
     "output_type": "execute_result"
    }
   ],
   "source": [
    "np.rollaxis(my_array_2_3_4, 0, 2)"
   ]
  },
  {
   "cell_type": "markdown",
   "metadata": {},
   "source": [
    "# 3.19 Tiling Arrays"
   ]
  },
  {
   "cell_type": "markdown",
   "metadata": {},
   "source": [
    "### tile\n",
    "according to the documentation at this URL : http://docs.scipy.org/doc/numpy/reference/generated/numpy.tile.html#numpy.tile\n",
    "\n",
    "Construct an array by repeating A the number of times given by reps.\n",
    "\n",
    "If reps has length d, the result will have dimension of max(d, A.ndim).\n",
    "\n",
    "If A.ndim < d, A is promoted to be d-dimensional by prepending new axes. So a shape (3,) array is promoted to (1, 3) for 2-D replication, or shape (1, 1, 3) for 3-D replication. If this is not the desired behavior, promote A to d-dimensions manually before calling this function.\n",
    "\n",
    "If A.ndim > d, reps is promoted to A.ndim by pre-pending 1’s to it. Thus for an A of shape (2, 3, 4, 5), a reps of (2, 2) is treated as (1, 1, 2, 2)."
   ]
  },
  {
   "cell_type": "code",
   "execution_count": 199,
   "metadata": {},
   "outputs": [
    {
     "data": {
      "text/plain": [
       "array([ 0,  1,  2,  3,  4,  5,  6,  7,  8,  9, 10, 11])"
      ]
     },
     "execution_count": 199,
     "metadata": {},
     "output_type": "execute_result"
    }
   ],
   "source": [
    "my_array = np.array(np.arange(12))\n",
    "my_array"
   ]
  },
  {
   "cell_type": "code",
   "execution_count": 200,
   "metadata": {},
   "outputs": [
    {
     "data": {
      "text/plain": [
       "array([ 0,  1,  2,  3,  4,  5,  6,  7,  8,  9, 10, 11,  0,  1,  2,  3,  4,\n",
       "        5,  6,  7,  8,  9, 10, 11,  0,  1,  2,  3,  4,  5,  6,  7,  8,  9,\n",
       "       10, 11])"
      ]
     },
     "execution_count": 200,
     "metadata": {},
     "output_type": "execute_result"
    }
   ],
   "source": [
    "np.tile(my_array, 3)"
   ]
  },
  {
   "cell_type": "code",
   "execution_count": 201,
   "metadata": {},
   "outputs": [
    {
     "data": {
      "text/plain": [
       "array([[ 0,  1,  2,  3,  4,  5,  6,  7,  8,  9, 10, 11],\n",
       "       [ 0,  1,  2,  3,  4,  5,  6,  7,  8,  9, 10, 11],\n",
       "       [ 0,  1,  2,  3,  4,  5,  6,  7,  8,  9, 10, 11]])"
      ]
     },
     "execution_count": 201,
     "metadata": {},
     "output_type": "execute_result"
    }
   ],
   "source": [
    "np.tile(my_array, 3).reshape((3,12))"
   ]
  },
  {
   "cell_type": "code",
   "execution_count": 202,
   "metadata": {},
   "outputs": [
    {
     "data": {
      "text/plain": [
       "array([0, 1, 2, 3, 4, 5, 6])"
      ]
     },
     "execution_count": 202,
     "metadata": {},
     "output_type": "execute_result"
    }
   ],
   "source": [
    "my_array_2 = np.array(np.arange(7))\n",
    "my_array_2"
   ]
  },
  {
   "cell_type": "code",
   "execution_count": 203,
   "metadata": {},
   "outputs": [
    {
     "data": {
      "text/plain": [
       "array([[0, 1, 2, 3, 4, 5, 6],\n",
       "       [0, 1, 2, 3, 4, 5, 6],\n",
       "       [0, 1, 2, 3, 4, 5, 6]])"
      ]
     },
     "execution_count": 203,
     "metadata": {},
     "output_type": "execute_result"
    }
   ],
   "source": [
    "my_tile_1 = np.tile(my_array_2, (3, 1))\n",
    "my_tile_1"
   ]
  },
  {
   "cell_type": "code",
   "execution_count": 204,
   "metadata": {},
   "outputs": [
    {
     "data": {
      "text/plain": [
       "array([[0, 1, 2, 3, 4, 5, 6, 0, 1, 2, 3, 4, 5, 6],\n",
       "       [0, 1, 2, 3, 4, 5, 6, 0, 1, 2, 3, 4, 5, 6],\n",
       "       [0, 1, 2, 3, 4, 5, 6, 0, 1, 2, 3, 4, 5, 6],\n",
       "       [0, 1, 2, 3, 4, 5, 6, 0, 1, 2, 3, 4, 5, 6],\n",
       "       [0, 1, 2, 3, 4, 5, 6, 0, 1, 2, 3, 4, 5, 6],\n",
       "       [0, 1, 2, 3, 4, 5, 6, 0, 1, 2, 3, 4, 5, 6]])"
      ]
     },
     "execution_count": 204,
     "metadata": {},
     "output_type": "execute_result"
    }
   ],
   "source": [
    "my_tile_2 = np.tile(tile_1, (2,2))\n",
    "my_tile_2"
   ]
  },
  {
   "cell_type": "code",
   "execution_count": 205,
   "metadata": {},
   "outputs": [
    {
     "data": {
      "text/plain": [
       "array([[0, 1, 2, 3, 4, 5, 6, 0, 1, 2, 3, 4, 5, 6],\n",
       "       [0, 1, 2, 3, 4, 5, 6, 0, 1, 2, 3, 4, 5, 6],\n",
       "       [0, 1, 2, 3, 4, 5, 6, 0, 1, 2, 3, 4, 5, 6],\n",
       "       [0, 1, 2, 3, 4, 5, 6, 0, 1, 2, 3, 4, 5, 6],\n",
       "       [0, 1, 2, 3, 4, 5, 6, 0, 1, 2, 3, 4, 5, 6],\n",
       "       [0, 1, 2, 3, 4, 5, 6, 0, 1, 2, 3, 4, 5, 6],\n",
       "       [0, 1, 2, 3, 4, 5, 6, 0, 1, 2, 3, 4, 5, 6],\n",
       "       [0, 1, 2, 3, 4, 5, 6, 0, 1, 2, 3, 4, 5, 6],\n",
       "       [0, 1, 2, 3, 4, 5, 6, 0, 1, 2, 3, 4, 5, 6],\n",
       "       [0, 1, 2, 3, 4, 5, 6, 0, 1, 2, 3, 4, 5, 6],\n",
       "       [0, 1, 2, 3, 4, 5, 6, 0, 1, 2, 3, 4, 5, 6],\n",
       "       [0, 1, 2, 3, 4, 5, 6, 0, 1, 2, 3, 4, 5, 6],\n",
       "       [0, 1, 2, 3, 4, 5, 6, 0, 1, 2, 3, 4, 5, 6],\n",
       "       [0, 1, 2, 3, 4, 5, 6, 0, 1, 2, 3, 4, 5, 6],\n",
       "       [0, 1, 2, 3, 4, 5, 6, 0, 1, 2, 3, 4, 5, 6],\n",
       "       [0, 1, 2, 3, 4, 5, 6, 0, 1, 2, 3, 4, 5, 6],\n",
       "       [0, 1, 2, 3, 4, 5, 6, 0, 1, 2, 3, 4, 5, 6],\n",
       "       [0, 1, 2, 3, 4, 5, 6, 0, 1, 2, 3, 4, 5, 6]])"
      ]
     },
     "execution_count": 205,
     "metadata": {},
     "output_type": "execute_result"
    }
   ],
   "source": [
    "my_tile_3 = np.tile(my_tile_2, (3,1))\n",
    "my_tile_3"
   ]
  },
  {
   "cell_type": "markdown",
   "metadata": {},
   "source": [
    "## 3.20 repeat()\n",
    "repeats each array e.g. 3 times, see the example below"
   ]
  },
  {
   "cell_type": "code",
   "execution_count": 206,
   "metadata": {},
   "outputs": [
    {
     "data": {
      "text/plain": [
       "array([0, 0, 0, 1, 1, 1, 2, 2, 2, 3, 3, 3, 4, 4, 4, 5, 5, 5, 6, 6, 6])"
      ]
     },
     "execution_count": 206,
     "metadata": {},
     "output_type": "execute_result"
    }
   ],
   "source": [
    "np.repeat(my_array_2, 3)"
   ]
  },
  {
   "cell_type": "code",
   "execution_count": 207,
   "metadata": {},
   "outputs": [
    {
     "data": {
      "text/plain": [
       "array([[[ 0,  1,  2,  3],\n",
       "        [ 4,  5,  6,  7],\n",
       "        [ 8,  9, 10, 11]],\n",
       "\n",
       "       [[12, 13, 14, 15],\n",
       "        [16, 17, 18, 19],\n",
       "        [20, 21, 22, 23]]])"
      ]
     },
     "execution_count": 207,
     "metadata": {},
     "output_type": "execute_result"
    }
   ],
   "source": [
    "my_array_repeated = np.array(np.arange(24)).reshape(2,3,4)\n",
    "my_array_repeated"
   ]
  },
  {
   "cell_type": "code",
   "execution_count": 208,
   "metadata": {},
   "outputs": [
    {
     "data": {
      "text/plain": [
       "array([[[ 0,  1,  2,  3],\n",
       "        [ 4,  5,  6,  7],\n",
       "        [ 8,  9, 10, 11]],\n",
       "\n",
       "       [[ 0,  1,  2,  3],\n",
       "        [ 4,  5,  6,  7],\n",
       "        [ 8,  9, 10, 11]],\n",
       "\n",
       "       [[12, 13, 14, 15],\n",
       "        [16, 17, 18, 19],\n",
       "        [20, 21, 22, 23]],\n",
       "\n",
       "       [[12, 13, 14, 15],\n",
       "        [16, 17, 18, 19],\n",
       "        [20, 21, 22, 23]]])"
      ]
     },
     "execution_count": 208,
     "metadata": {},
     "output_type": "execute_result"
    }
   ],
   "source": [
    "np.repeat(my_array_repeated, 2, axis=0)"
   ]
  },
  {
   "cell_type": "code",
   "execution_count": null,
   "metadata": {},
   "outputs": [],
   "source": []
  }
 ],
 "metadata": {
  "kernelspec": {
   "display_name": "Python 3",
   "language": "python",
   "name": "python3"
  },
  "language_info": {
   "codemirror_mode": {
    "name": "ipython",
    "version": 3
   },
   "file_extension": ".py",
   "mimetype": "text/x-python",
   "name": "python",
   "nbconvert_exporter": "python",
   "pygments_lexer": "ipython3",
   "version": "3.6.4"
  }
 },
 "nbformat": 4,
 "nbformat_minor": 2
}
