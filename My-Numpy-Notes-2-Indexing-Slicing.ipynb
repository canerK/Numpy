{
 "cells": [
  {
   "cell_type": "markdown",
   "metadata": {},
   "source": [
    "# 1 Numpy Indexing\n",
    "\n",
    "\n",
    "## 1.1 One dimentional arrays"
   ]
  },
  {
   "cell_type": "code",
   "execution_count": 18,
   "metadata": {},
   "outputs": [],
   "source": [
    "import numpy as np\n"
   ]
  },
  {
   "cell_type": "code",
   "execution_count": 19,
   "metadata": {},
   "outputs": [
    {
     "data": {
      "text/plain": [
       "array([1, 2, 3, 4, 5])"
      ]
     },
     "execution_count": 19,
     "metadata": {},
     "output_type": "execute_result"
    }
   ],
   "source": [
    "my_vector = np.array([1,2,3,4,5])\n",
    "my_vector"
   ]
  },
  {
   "cell_type": "code",
   "execution_count": 20,
   "metadata": {},
   "outputs": [
    {
     "data": {
      "text/plain": [
       "1"
      ]
     },
     "execution_count": 20,
     "metadata": {},
     "output_type": "execute_result"
    }
   ],
   "source": [
    "#Example 1.1 accesing element with an index number\n",
    "my_vector[0]"
   ]
  },
  {
   "cell_type": "code",
   "execution_count": 21,
   "metadata": {},
   "outputs": [
    {
     "data": {
      "text/plain": [
       "5"
      ]
     },
     "execution_count": 21,
     "metadata": {},
     "output_type": "execute_result"
    }
   ],
   "source": [
    "#Example 1.2 accesing element with an negative index number\n",
    "my_vector[-1]"
   ]
  },
  {
   "cell_type": "code",
   "execution_count": 22,
   "metadata": {},
   "outputs": [
    {
     "data": {
      "text/plain": [
       "3"
      ]
     },
     "execution_count": 22,
     "metadata": {},
     "output_type": "execute_result"
    }
   ],
   "source": [
    "#Example 1.3 accesing element with an index number which calculated with mathematical operations\n",
    "my_vector[100//50] "
   ]
  },
  {
   "cell_type": "code",
   "execution_count": 23,
   "metadata": {},
   "outputs": [
    {
     "data": {
      "text/plain": [
       "3"
      ]
     },
     "execution_count": 23,
     "metadata": {},
     "output_type": "execute_result"
    }
   ],
   "source": [
    "#Example 1.4 you canuse some functions as well\n",
    "my_vector[100//(10*my_vector.size)] "
   ]
  },
  {
   "cell_type": "code",
   "execution_count": 24,
   "metadata": {},
   "outputs": [
    {
     "data": {
      "text/plain": [
       "array([100,   2,   3,   4,   5])"
      ]
     },
     "execution_count": 24,
     "metadata": {},
     "output_type": "execute_result"
    }
   ],
   "source": [
    "#Example 1.5 ssigning a new value\n",
    "my_vector[0] = 100\n",
    "my_vector"
   ]
  },
  {
   "cell_type": "markdown",
   "metadata": {},
   "source": [
    "## 1.2 Two-dimentional arrays\n",
    "\n",
    "## 1.2.1 shape()"
   ]
  },
  {
   "cell_type": "code",
   "execution_count": 36,
   "metadata": {},
   "outputs": [
    {
     "data": {
      "text/plain": [
       "array([[ 0,  1,  2,  3,  4],\n",
       "       [ 5,  6,  7,  8,  9],\n",
       "       [10, 11, 12, 13, 14],\n",
       "       [15, 16, 17, 18, 19],\n",
       "       [20, 21, 22, 23, 24],\n",
       "       [25, 26, 27, 28, 29],\n",
       "       [30, 31, 32, 33, 34]])"
      ]
     },
     "execution_count": 36,
     "metadata": {},
     "output_type": "execute_result"
    }
   ],
   "source": [
    "#1.2.1 Example creating two dimentional numpy arrays \n",
    "my_2_dim_arr = np.arange(35)\n",
    "my_2_dim_arr.shape = (7,5)\n",
    "my_array"
   ]
  },
  {
   "cell_type": "code",
   "execution_count": 38,
   "metadata": {},
   "outputs": [
    {
     "data": {
      "text/plain": [
       "array([10, 11, 12, 13, 14])"
      ]
     },
     "execution_count": 38,
     "metadata": {},
     "output_type": "execute_result"
    }
   ],
   "source": [
    "#1.2.1 Example accessing a row \n",
    "my_array[2]"
   ]
  },
  {
   "cell_type": "code",
   "execution_count": 49,
   "metadata": {},
   "outputs": [
    {
     "data": {
      "text/plain": [
       "array([23])"
      ]
     },
     "execution_count": 49,
     "metadata": {},
     "output_type": "execute_result"
    }
   ],
   "source": [
    "#1.2.1 Example accessing a certain element \n",
    "row=4,\n",
    "column=3\n",
    "my_array[row,column]"
   ]
  },
  {
   "cell_type": "markdown",
   "metadata": {},
   "source": [
    "## 1.2.2 creating three dimentional arrays\n",
    "\n",
    "The major difference is that it's displayed as a record.array. \n",
    "The reason that this is important, is that I can use the person_record_array, and now I can select the first element and instead of using an index like height or weight, that I used above, I'm going to use an attribute. And in particular I use the attribute age for this example. This is telling us that if we look at this array, where the first record is Delta, the person Delta has an age 34, this is what's displayed.\n",
    "\n"
   ]
  },
  {
   "cell_type": "code",
   "execution_count": 52,
   "metadata": {},
   "outputs": [
    {
     "data": {
      "text/plain": [
       "array([[[ 0,  1],\n",
       "        [ 2,  3],\n",
       "        [ 4,  5],\n",
       "        [ 6,  7],\n",
       "        [ 8,  9]],\n",
       "\n",
       "       [[10, 11],\n",
       "        [12, 13],\n",
       "        [14, 15],\n",
       "        [16, 17],\n",
       "        [18, 19]],\n",
       "\n",
       "       [[20, 21],\n",
       "        [22, 23],\n",
       "        [24, 25],\n",
       "        [26, 27],\n",
       "        [28, 29]]])"
      ]
     },
     "execution_count": 52,
     "metadata": {},
     "output_type": "execute_result"
    }
   ],
   "source": [
    "my_three_dim_array = np.arange(30)\n",
    "my_three_dim_array.shape = (3,5,2)\n",
    "my_three_dim_array"
   ]
  },
  {
   "cell_type": "code",
   "execution_count": 57,
   "metadata": {},
   "outputs": [
    {
     "data": {
      "text/plain": [
       "array([[10, 11],\n",
       "       [12, 13],\n",
       "       [14, 15],\n",
       "       [16, 17],\n",
       "       [18, 19]])"
      ]
     },
     "execution_count": 57,
     "metadata": {},
     "output_type": "execute_result"
    }
   ],
   "source": [
    "#Access the second two dimentional array\n",
    "my_three_dim_array [1]"
   ]
  },
  {
   "cell_type": "code",
   "execution_count": 58,
   "metadata": {},
   "outputs": [
    {
     "data": {
      "text/plain": [
       "array([18, 19])"
      ]
     },
     "execution_count": 58,
     "metadata": {},
     "output_type": "execute_result"
    }
   ],
   "source": [
    "#Access a row of the second two dimentional array\n",
    "my_three_dim_array [1,4]"
   ]
  },
  {
   "cell_type": "code",
   "execution_count": 60,
   "metadata": {},
   "outputs": [
    {
     "data": {
      "text/plain": [
       "19"
      ]
     },
     "execution_count": 60,
     "metadata": {},
     "output_type": "execute_result"
    }
   ],
   "source": [
    "#Access the last element of the second two dimentional array\n",
    "my_three_dim_array [1,4,1]"
   ]
  },
  {
   "attachments": {},
   "cell_type": "markdown",
   "metadata": {},
   "source": [
    "# 1.3. Blooen Mask\n",
    "\n",
    "There are two ways to achieve the same results:\n",
    "•\tfirst to use python's logical operators, and \n",
    "•\tthe second used numpy's logical and function.\n",
    "\n",
    "These two methods are very similar. The reason that you might choose to use numpy's logical functions is that when you're dealing with very large arrays, numpy's functions will probably be more efficient.\n"
   ]
  },
  {
   "cell_type": "code",
   "execution_count": 103,
   "metadata": {},
   "outputs": [
    {
     "data": {
      "text/plain": [
       "array([-15,  -4,   0,   2,  25,  35, 105])"
      ]
     },
     "execution_count": 103,
     "metadata": {},
     "output_type": "execute_result"
    }
   ],
   "source": [
    "#create an numpy array from python list\n",
    "\n",
    "my_vector = np.array([-15, -4, 0, 2, 25, 35, 105])\n",
    "my_vector"
   ]
  },
  {
   "cell_type": "code",
   "execution_count": 104,
   "metadata": {},
   "outputs": [
    {
     "data": {
      "text/plain": [
       "array([ True, False,  True, False,  True,  True,  True])"
      ]
     },
     "execution_count": 104,
     "metadata": {},
     "output_type": "execute_result"
    }
   ],
   "source": [
    "my_zero_mode_five_vector = (my_vector%5 == 0)\n",
    "\n",
    "my_zero_mode_five_vector #created an array of Boolean values whether the elemen is divisible by 5 or not"
   ]
  },
  {
   "cell_type": "code",
   "execution_count": 105,
   "metadata": {},
   "outputs": [
    {
     "data": {
      "text/plain": [
       "array([-15,   0,  25,  35, 105])"
      ]
     },
     "execution_count": 105,
     "metadata": {},
     "output_type": "execute_result"
    }
   ],
   "source": [
    "# we can use our my_zero_mode_five_vector use it as index to create a sub array\n",
    "my_sub_array = my_vector[my_zero_mode_five_vector]\n",
    "my_sub_array"
   ]
  },
  {
   "cell_type": "code",
   "execution_count": 106,
   "metadata": {},
   "outputs": [
    {
     "data": {
      "text/plain": [
       "array([ 25,  35, 105])"
      ]
     },
     "execution_count": 106,
     "metadata": {},
     "output_type": "execute_result"
    }
   ],
   "source": [
    "#use the my_sub_array in my_sub_array itself to select the values greater than zero\n",
    "#notice the the variables are not changes just filtered\n",
    "my_sub_array[ my_sub_array>0 ] "
   ]
  },
  {
   "cell_type": "markdown",
   "metadata": {},
   "source": [
    "## 1.3.1 Combined_mask"
   ]
  },
  {
   "cell_type": "code",
   "execution_count": 107,
   "metadata": {},
   "outputs": [
    {
     "data": {
      "text/plain": [
       "array([-15,  -4,   0,   2,  25,  35, 105])"
      ]
     },
     "execution_count": 107,
     "metadata": {},
     "output_type": "execute_result"
    }
   ],
   "source": [
    "my_vector"
   ]
  },
  {
   "cell_type": "code",
   "execution_count": 108,
   "metadata": {},
   "outputs": [
    {
     "data": {
      "text/plain": [
       "array([ True, False,  True, False,  True,  True,  True])"
      ]
     },
     "execution_count": 108,
     "metadata": {},
     "output_type": "execute_result"
    }
   ],
   "source": [
    "my_mod_test = 0 == my_vector%5\n",
    "my_mod_test"
   ]
  },
  {
   "cell_type": "code",
   "execution_count": 109,
   "metadata": {},
   "outputs": [
    {
     "data": {
      "text/plain": [
       "array([False, False,  True,  True,  True,  True,  True])"
      ]
     },
     "execution_count": 109,
     "metadata": {},
     "output_type": "execute_result"
    }
   ],
   "source": [
    "my_pozitif_test = my_vector >= 0\n",
    "my_pozitif_test"
   ]
  },
  {
   "cell_type": "code",
   "execution_count": 110,
   "metadata": {},
   "outputs": [
    {
     "data": {
      "text/plain": [
       "array([False, False,  True, False,  True,  True,  True])"
      ]
     },
     "execution_count": 110,
     "metadata": {},
     "output_type": "execute_result"
    }
   ],
   "source": [
    "my_combined_test= np.logical_and(my_pozitif_test,my_mod_test)\n",
    "my_combined_test"
   ]
  },
  {
   "cell_type": "code",
   "execution_count": 111,
   "metadata": {},
   "outputs": [
    {
     "data": {
      "text/plain": [
       "array([  0,  25,  35, 105])"
      ]
     },
     "execution_count": 111,
     "metadata": {},
     "output_type": "execute_result"
    }
   ],
   "source": [
    "#We can use combined-mask to index our original vector\n",
    "my_vector[my_combined_test]"
   ]
  },
  {
   "cell_type": "markdown",
   "metadata": {},
   "source": [
    "## 1.4. Structured and Record Arrays"
   ]
  },
  {
   "cell_type": "code",
   "execution_count": 118,
   "metadata": {},
   "outputs": [
    {
     "data": {
      "text/plain": [
       "[('name', 'S6'), ('height', 'f8'), ('weight', 'f8'), ('age', 'int8')]"
      ]
     },
     "execution_count": 118,
     "metadata": {},
     "output_type": "execute_result"
    }
   ],
   "source": [
    "person_data_def = [(\"name\",\"S6\"),(\"height\",\"f8\"),(\"weight\",\"f8\"), (\"age\",\"int8\")]\n",
    "person_data_def"
   ]
  },
  {
   "cell_type": "code",
   "execution_count": 123,
   "metadata": {},
   "outputs": [
    {
     "data": {
      "text/plain": [
       "array([(b'', 0., 0., 0), (b'', 0., 0., 0), (b'', 0., 0., 0),\n",
       "       (b'', 0., 0., 0)],\n",
       "      dtype=[('name', 'S6'), ('height', '<f8'), ('weight', '<f8'), ('age', 'i1')])"
      ]
     },
     "execution_count": 123,
     "metadata": {},
     "output_type": "execute_result"
    }
   ],
   "source": [
    "my_people_array = np.zeros((4,),dtype=person_data_def)\n",
    "my_people_array"
   ]
  },
  {
   "cell_type": "code",
   "execution_count": 131,
   "metadata": {},
   "outputs": [
    {
     "data": {
      "text/plain": [
       "array([(b'',  0.,   0.,  0), (b'Mary', 73., 205., 34),\n",
       "       (b'Caner', 11.,   9., 35), (b'',  0.,   0.,  0)],\n",
       "      dtype=[('name', 'S6'), ('height', '<f8'), ('weight', '<f8'), ('age', 'i1')])"
      ]
     },
     "execution_count": 131,
     "metadata": {},
     "output_type": "execute_result"
    }
   ],
   "source": [
    "my_people_array[2] = (\"Caner\",11, 9, 35)\n",
    "my_people_array[1] = (\"Mary\", 73, 205, 34)\n",
    "my_people_array"
   ]
  },
  {
   "cell_type": "code",
   "execution_count": 132,
   "metadata": {},
   "outputs": [
    {
     "data": {
      "text/plain": [
       "array([(b'',  0.,   0.,  0), (b'Mary', 73., 205., 34),\n",
       "       (b'Caner', 11.,   9., 35), (b'',  0.,   0.,  0)],\n",
       "      dtype=[('name', 'S6'), ('height', '<f8'), ('weight', '<f8'), ('age', 'i1')])"
      ]
     },
     "execution_count": 132,
     "metadata": {},
     "output_type": "execute_result"
    }
   ],
   "source": [
    "my_people_array[0:]"
   ]
  },
  {
   "cell_type": "code",
   "execution_count": 135,
   "metadata": {},
   "outputs": [
    {
     "data": {
      "text/plain": [
       "array([ 0, 34, 35,  0], dtype=int8)"
      ]
     },
     "execution_count": 135,
     "metadata": {},
     "output_type": "execute_result"
    }
   ],
   "source": [
    "ages= my_people_array[\"age\"]\n",
    "ages"
   ]
  },
  {
   "cell_type": "markdown",
   "metadata": {},
   "source": [
    "## 1.4.1 Multi-dimensional Structured Arrays\n"
   ]
  },
  {
   "cell_type": "code",
   "execution_count": 138,
   "metadata": {},
   "outputs": [
    {
     "data": {
      "text/plain": [
       "array([[[(b'', 0., 0., 0), (b'', 0., 0., 0)],\n",
       "        [(b'', 0., 0., 0), (b'', 0., 0., 0)],\n",
       "        [(b'', 0., 0., 0), (b'', 0., 0., 0)]],\n",
       "\n",
       "       [[(b'', 0., 0., 0), (b'', 0., 0., 0)],\n",
       "        [(b'', 0., 0., 0), (b'', 0., 0., 0)],\n",
       "        [(b'', 0., 0., 0), (b'', 0., 0., 0)]],\n",
       "\n",
       "       [[(b'', 0., 0., 0), (b'', 0., 0., 0)],\n",
       "        [(b'', 0., 0., 0), (b'', 0., 0., 0)],\n",
       "        [(b'', 0., 0., 0), (b'', 0., 0., 0)]],\n",
       "\n",
       "       [[(b'', 0., 0., 0), (b'', 0., 0., 0)],\n",
       "        [(b'', 0., 0., 0), (b'', 0., 0., 0)],\n",
       "        [(b'', 0., 0., 0), (b'', 0., 0., 0)]]],\n",
       "      dtype=[('name', 'S6'), ('height', '<f8'), ('weight', '<f8'), ('age', 'i1')])"
      ]
     },
     "execution_count": 138,
     "metadata": {},
     "output_type": "execute_result"
    }
   ],
   "source": [
    "my_people_big_multi_dim_array = np.zeros((4,3,2), dtype = person_data_def)\n",
    "my_people_big_multi_dim_array"
   ]
  },
  {
   "cell_type": "code",
   "execution_count": 150,
   "metadata": {},
   "outputs": [
    {
     "data": {
      "text/plain": [
       "array([[[(b'Dude', 100., 90., 30), (b'',   0.,  0.,  0)],\n",
       "        [(b'',   0.,  0.,  0), (b'',   0.,  0.,  0)],\n",
       "        [(b'',   0.,  0.,  0), (b'',   0.,  0.,  0)]],\n",
       "\n",
       "       [[(b'',   0.,  0.,  0), (b'',   0.,  0.,  0)],\n",
       "        [(b'',   0.,  0.,  0), (b'',   0.,  0.,  0)],\n",
       "        [(b'',   0.,  0.,  0), (b'',   0.,  0.,  0)]],\n",
       "\n",
       "       [[(b'',   0.,  0.,  0), (b'',   0.,  0.,  0)],\n",
       "        [(b'RL', 120., 35.,  3), (b'',   0.,  0.,  0)],\n",
       "        [(b'',   0.,  0.,  0), (b'',   0.,  0.,  0)]],\n",
       "\n",
       "       [[(b'',   0.,  0.,  0), (b'',   0.,  0.,  0)],\n",
       "        [(b'RL', 180., 95., 33), (b'Sara', 180., 95., 33)],\n",
       "        [(b'',   0.,  0.,  0), (b'Mike', 180., 95., 33)]]],\n",
       "      dtype=[('name', 'S6'), ('height', '<f8'), ('weight', '<f8'), ('age', 'i1')])"
      ]
     },
     "execution_count": 150,
     "metadata": {},
     "output_type": "execute_result"
    }
   ],
   "source": [
    "my_people_big_multi_dim_array[3,2,1] = (\"Mike\",180,95,33)\n",
    "my_people_big_multi_dim_array[3,1,1] = (\"Sara\",180,95,33)\n",
    "my_people_big_multi_dim_array[2,1,0] = (\"RL\",120,35,3)\n",
    "\n",
    "\n",
    "my_people_big_multi_dim_array[0,0,0] = (\"Dude\",100,90,30)\n",
    "\n",
    "my_people_big_multi_dim_array"
   ]
  },
  {
   "cell_type": "code",
   "execution_count": 151,
   "metadata": {},
   "outputs": [
    {
     "data": {
      "text/plain": [
       "array([[[100.,   0.],\n",
       "        [  0.,   0.],\n",
       "        [  0.,   0.]],\n",
       "\n",
       "       [[  0.,   0.],\n",
       "        [  0.,   0.],\n",
       "        [  0.,   0.]],\n",
       "\n",
       "       [[  0.,   0.],\n",
       "        [120.,   0.],\n",
       "        [  0.,   0.]],\n",
       "\n",
       "       [[  0.,   0.],\n",
       "        [180., 180.],\n",
       "        [  0., 180.]]])"
      ]
     },
     "execution_count": 151,
     "metadata": {},
     "output_type": "execute_result"
    }
   ],
   "source": [
    "my_people_big_multi_dim_array['height']"
   ]
  },
  {
   "cell_type": "code",
   "execution_count": 153,
   "metadata": {},
   "outputs": [
    {
     "data": {
      "text/plain": [
       "array([[[(100., 90.), (  0.,  0.)],\n",
       "        [(  0.,  0.), (  0.,  0.)],\n",
       "        [(  0.,  0.), (  0.,  0.)]],\n",
       "\n",
       "       [[(  0.,  0.), (  0.,  0.)],\n",
       "        [(  0.,  0.), (  0.,  0.)],\n",
       "        [(  0.,  0.), (  0.,  0.)]],\n",
       "\n",
       "       [[(  0.,  0.), (  0.,  0.)],\n",
       "        [(120., 35.), (  0.,  0.)],\n",
       "        [(  0.,  0.), (  0.,  0.)]],\n",
       "\n",
       "       [[(  0.,  0.), (  0.,  0.)],\n",
       "        [(180., 95.), (180., 95.)],\n",
       "        [(  0.,  0.), (180., 95.)]]],\n",
       "      dtype=[('height', '<f8'), ('weight', '<f8')])"
      ]
     },
     "execution_count": 153,
     "metadata": {},
     "output_type": "execute_result"
    }
   ],
   "source": [
    "my_people_big_multi_dim_array[['height', 'weight']]"
   ]
  },
  {
   "cell_type": "markdown",
   "metadata": {},
   "source": [
    "## 1.4.2 Creating Record Arrays"
   ]
  },
  {
   "cell_type": "code",
   "execution_count": 160,
   "metadata": {},
   "outputs": [
    {
     "data": {
      "text/plain": [
       "rec.array([(b'Delta', 73., 205., 34), (b'Alpha', 65., 112., 23)],\n",
       "          dtype=[('name', 'S6'), ('height', '<f8'), ('weight', '<f8'), ('age', 'i1')])"
      ]
     },
     "execution_count": 160,
     "metadata": {},
     "output_type": "execute_result"
    }
   ],
   "source": [
    "my_people_record_array = np.rec.array([('Delta', 73, 205, 34),('Alpha', 65, 112, 23)],dtype=person_data_def)\n",
    "my_people_record_array"
   ]
  },
  {
   "cell_type": "code",
   "execution_count": 161,
   "metadata": {},
   "outputs": [
    {
     "data": {
      "text/plain": [
       "34"
      ]
     },
     "execution_count": 161,
     "metadata": {},
     "output_type": "execute_result"
    }
   ],
   "source": [
    "my_people_record_array[0].age"
   ]
  },
  {
   "cell_type": "code",
   "execution_count": null,
   "metadata": {},
   "outputs": [],
   "source": []
  }
 ],
 "metadata": {
  "kernelspec": {
   "display_name": "Python 3",
   "language": "python",
   "name": "python3"
  },
  "language_info": {
   "codemirror_mode": {
    "name": "ipython",
    "version": 3
   },
   "file_extension": ".py",
   "mimetype": "text/x-python",
   "name": "python",
   "nbconvert_exporter": "python",
   "pygments_lexer": "ipython3",
   "version": "3.6.6"
  }
 },
 "nbformat": 4,
 "nbformat_minor": 2
}
